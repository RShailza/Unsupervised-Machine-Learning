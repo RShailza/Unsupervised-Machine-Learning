{
 "cells": [
  {
   "cell_type": "code",
   "execution_count": null,
   "id": "13cda2c1",
   "metadata": {},
   "outputs": [],
   "source": [
    "# Initial imports\n",
    "import pandas as pd\n",
    "from pathlib import Path"
   ]
  },
  {
   "cell_type": "code",
   "execution_count": null,
   "id": "d3e72fcd",
   "metadata": {},
   "outputs": [],
   "source": [
    "# Data loading\n",
    "file_path = Path(\"crypto_data.csv\")\n",
    "df_crypto = pd.read_csv(file_path)\n",
    "df_crypto.head(10)"
   ]
  },
  {
   "cell_type": "code",
   "execution_count": null,
   "id": "ed4193b8",
   "metadata": {},
   "outputs": [],
   "source": [
    "df_crypto = df_crypto.drop(columns=['Unnamed: 0'])\n",
    "df_crypto.head()"
   ]
  },
  {
   "cell_type": "code",
   "execution_count": null,
   "id": "3ac312f1",
   "metadata": {},
   "outputs": [],
   "source": [
    "# List dataframe data types\n",
    "df_crypto.dtypes\n"
   ]
  },
  {
   "cell_type": "code",
   "execution_count": null,
   "id": "7fbffcd1",
   "metadata": {},
   "outputs": [],
   "source": [
    "df_crypto = df_crypto.loc[df_crypto['IsTrading'] == True]\n",
    "df_crypto"
   ]
  },
  {
   "cell_type": "code",
   "execution_count": null,
   "id": "130cca07",
   "metadata": {},
   "outputs": [],
   "source": [
    "# Find duplicate entries\n",
    "print(f\"Duplicate entries: {df_crypto.duplicated().sum()}\")"
   ]
  },
  {
   "cell_type": "code",
   "execution_count": null,
   "id": "0d18a235",
   "metadata": {},
   "outputs": [],
   "source": [
    "# Remove rows with at least 1 null value\n",
    "df_crypto = df_crypto.dropna()\n",
    "df_crypto"
   ]
  },
  {
   "cell_type": "code",
   "execution_count": null,
   "id": "baa69658",
   "metadata": {},
   "outputs": [],
   "source": [
    "# Transform Previous Customer column\n",
    "def changeStatus(status):\n",
    "    if status == \"True\":\n",
    "        return 1\n",
    "    else:\n",
    "        return 0\n",
    "\n",
    "# Along with replace() and map(), this is another way to encode the gender column into numbers.\n",
    "df_crypto[\"IsTrading\"] = df_crypto[\"IsTrading\"].apply(changeStatus)\n",
    "df_crypto.head()"
   ]
  },
  {
   "cell_type": "code",
   "execution_count": null,
   "id": "6f9cbe72",
   "metadata": {},
   "outputs": [],
   "source": [
    "# Find null values\n",
    "for column in df_.columns:\n",
    "    print(f\"Column {column} has {df_shopping[column].isnull().sum()} null values\")\n"
   ]
  }
 ],
 "metadata": {
  "kernelspec": {
   "display_name": "Python 3",
   "language": "python",
   "name": "python3"
  },
  "language_info": {
   "codemirror_mode": {
    "name": "ipython",
    "version": 3
   },
   "file_extension": ".py",
   "mimetype": "text/x-python",
   "name": "python",
   "nbconvert_exporter": "python",
   "pygments_lexer": "ipython3",
   "version": "3.8.8"
  }
 },
 "nbformat": 4,
 "nbformat_minor": 5
}
